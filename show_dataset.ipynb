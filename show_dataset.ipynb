{
 "cells": [
  {
   "cell_type": "code",
   "execution_count": null,
   "id": "meaning-tribune",
   "metadata": {},
   "outputs": [],
   "source": [
    "import sys\n",
    "import os\n",
    "import math\n",
    "import cv2\n",
    "import numpy as np\n",
    "from PIL import Image\n",
    "import pandas as pd\n",
    "import matplotlib.pyplot as plt\n",
    "\n",
    "def gallery(array, ncols=3):\n",
    "    if isinstance(array, list):\n",
    "        array_paths = array\n",
    "        array = []\n",
    "        for path in array_paths:\n",
    "            img_np = cv2.imread(path)\n",
    "            array.append(img_np)\n",
    "        array = np.array(array)\n",
    "    nindex, height, width, intensity = array.shape\n",
    "    nrows = math.ceil(nindex / ncols)\n",
    "    if nrows*ncols > len(array):\n",
    "        # add zero images\n",
    "        buffer = []\n",
    "        for k in range(nrows*ncols - len(array)):\n",
    "            buffer.append(np.zeros((array.shape[1], array.shape[2], array.shape[3]), dtype=np.uint8))\n",
    "        array = np.concatenate((array, np.array(buffer)))\n",
    "    # want result.shape = (height*nrows, width*ncols, intensity)\n",
    "    result = (array.reshape(nrows, ncols, height, width, intensity)\n",
    "              .swapaxes(1, 2)\n",
    "              .reshape(height*nrows, width*ncols, intensity))\n",
    "    return result\n",
    "\n",
    "def show_group(df, N=49, title='', s=2):\n",
    "    img_paths = gt_df['file'].values\n",
    "    random.shuffle(img_paths)\n",
    "    img_paths = img_paths[:N]\n",
    "    imgs = [cv2.cvtColor(cv2.imread(os.path.join(images_path, path)), cv2.COLOR_BGR2RGB) for path in img_paths]\n",
    "    ncols = 9 #math.ceil(math.sqrt(len(imgs)))\n",
    "    img_gallery = gallery(np.array(imgs), ncols=ncols)\n",
    "    plt.figure(figsize=[s*ncols, s*ncols])  # 1 inch per face\n",
    "    plt.imshow(img_gallery)\n",
    "    plt.title(title)"
   ]
  },
  {
   "cell_type": "markdown",
   "id": "cardiovascular-evidence",
   "metadata": {},
   "source": [
    "# FairFace"
   ]
  },
  {
   "cell_type": "code",
   "execution_count": null,
   "id": "stretch-australian",
   "metadata": {},
   "outputs": [],
   "source": [
    "gt_path = '/data/face/fairface/fairface_label_train.csv'\n",
    "images_path = '/data/face/fairface/fairface-img-margin125-trainval'\n",
    "\n",
    "gt_df = pd.read_csv(gt_path)\n",
    "gt_df"
   ]
  },
  {
   "cell_type": "markdown",
   "id": "level-bangkok",
   "metadata": {},
   "source": [
    "## Male/Female"
   ]
  },
  {
   "cell_type": "code",
   "execution_count": null,
   "id": "frozen-leave",
   "metadata": {},
   "outputs": [],
   "source": [
    "for gender in ['Male', 'Female']:\n",
    "    show_group(gt_df[gt_df['gender'] == gender], title=gender)"
   ]
  },
  {
   "cell_type": "markdown",
   "id": "welsh-nirvana",
   "metadata": {},
   "source": [
    "## Age"
   ]
  },
  {
   "cell_type": "code",
   "execution_count": null,
   "id": "instructional-clone",
   "metadata": {},
   "outputs": [],
   "source": [
    "for age in ['0-2', '3-9', '10-19', '20-29', '30-39', '40-49', '50-59', '60-69', 'more than 70']:\n",
    "    show_group(gt_df[gt_df['age'] == age], title=age)"
   ]
  },
  {
   "cell_type": "markdown",
   "id": "electronic-collins",
   "metadata": {},
   "source": [
    "## Race"
   ]
  },
  {
   "cell_type": "code",
   "execution_count": null,
   "id": "stunning-loading",
   "metadata": {},
   "outputs": [],
   "source": [
    "for race in ['East Asian', 'Indian', 'Black', 'White', 'Middle Eastern', 'Latino_Hispanic', 'Southeast Asian']:\n",
    "    show_group(gt_df[gt_df['race'] == race], title=race)"
   ]
  }
 ],
 "metadata": {
  "kernelspec": {
   "display_name": "Python 3",
   "language": "python",
   "name": "python3"
  },
  "language_info": {
   "codemirror_mode": {
    "name": "ipython",
    "version": 3
   },
   "file_extension": ".py",
   "mimetype": "text/x-python",
   "name": "python",
   "nbconvert_exporter": "python",
   "pygments_lexer": "ipython3",
   "version": "3.7.3"
  },
  "pycharm": {
   "stem_cell": {
    "cell_type": "raw",
    "source": [],
    "metadata": {
     "collapsed": false
    }
   }
  }
 },
 "nbformat": 4,
 "nbformat_minor": 5
}